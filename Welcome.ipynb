{
 "cells": [
  {
   "cell_type": "markdown",
   "metadata": {},
   "source": [
    "# Welcome"
   ]
  },
  {
   "cell_type": "markdown",
   "metadata": {},
   "source": [
    "This is a notebook written in Python 3 and markdown. This entire collection of notebooks is kept in a github repository, which means that your changes can be saved, kept under version control, and easily shared. \n",
    "\n",
    "It also means that your notebooks can be served up via the [mybinder.org](http://mybinder.org) service so that you can do the computations live on the web. In essence, these notebooks give you a computer in the cloud for doing some digital archaeology! "
   ]
  },
  {
   "cell_type": "markdown",
   "metadata": {},
   "source": [
    "## A quick tour\n",
    "\n",
    "If you double click on these words, a bounding box appears around this block of text. You can now edit the text in here. Give it a shot and crrct th spllng errrs.\n",
    "\n",
    "Notice how the toolbar has changed? The dropdown shows that this block is a markdown block:\n",
    "\n",
    "![toolbar screenshot](/imgs/toolbar.png)"
   ]
  },
  {
   "cell_type": "markdown",
   "metadata": {},
   "source": [
    "Now click on the `+` button to add a new codeblock. You can use the up and down arrow buttons to move the codeblock where you want it. Try running some basic python. You know that you're in a python notebook because it tells you so over at the top right. In your new cell, try this:\n",
    "\n",
    "```print(\"hello world\")```\n",
    "\n",
    "And then hit the `Run` button.\n"
   ]
  },
  {
   "cell_type": "markdown",
   "metadata": {},
   "source": [
    "As you progress through the Digital Archaeology textbook, you'll have many opportunities to try python and R code. **Remember to save often** and to either a) download your notebooks to your own computer or b) add, commit, and push your changes to your repository. You can do this by clicking on the 'jupyter' logo at the top of the screen, and then clicking `new -> terminal`. \n",
    "\n",
    "```\n",
    "$git add .\n",
    "$git commit -m \"saving my changes\"\n",
    "$git push -u origin master\n",
    "```\n",
    "\n",
    "If you save your notebooks on your own machine, you can upload them to github later or hit the 'upload' button on the jupyter notebook home. You can also upload csv files etc. **If you hit the logout button at the top of the screen** or close the "
   ]
  }
 ],
 "metadata": {
  "kernelspec": {
   "display_name": "Python 3",
   "language": "python",
   "name": "python3"
  },
  "language_info": {
   "codemirror_mode": {
    "name": "ipython",
    "version": 3
   },
   "file_extension": ".py",
   "mimetype": "text/x-python",
   "name": "python",
   "nbconvert_exporter": "python",
   "pygments_lexer": "ipython3",
   "version": "3.6.5"
  }
 },
 "nbformat": 4,
 "nbformat_minor": 1
}
